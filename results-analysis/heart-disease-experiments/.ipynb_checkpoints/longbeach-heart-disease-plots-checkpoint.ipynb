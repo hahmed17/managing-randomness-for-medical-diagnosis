{
 "cells": [
  {
   "cell_type": "code",
   "execution_count": 5,
   "id": "741e0c83",
   "metadata": {},
   "outputs": [],
   "source": [
    "import numpy as np\n",
    "import pandas as pd\n",
    "from matplotlib import pyplot as plt\n",
    "from matplotlib.pyplot import figure"
   ]
  },
  {
   "cell_type": "markdown",
   "id": "36f6466f",
   "metadata": {},
   "source": [
    "# Gaussian NB on VA Long Beach Heart Disease"
   ]
  },
  {
   "cell_type": "code",
   "execution_count": 6,
   "id": "b58d4d59",
   "metadata": {},
   "outputs": [
    {
     "data": {
      "image/png": "[encoded data removed]",
      "text/plain": [
       "<Figure size 640x480 with 1 Axes>"
      ]
     },
     "metadata": {
      "needs_background": "light"
     },
     "output_type": "display_data"
    }
   ],
   "source": [
    "data1 = np.loadtxt(\"results\\gaussian-nb-va-heart.txt\", dtype=float)\n",
    "data1_size = np.size(data1)\n",
    "\n",
    "# Plot model performance\n",
    "x_axis = [i for i in range(data1_size)]  # set x-axis to array indices\n",
    "plt.figure(figsize=(8, 6), dpi=80)\n",
    "plt.scatter(x_axis, data1, s=5)\n",
    "plt.xlabel(\"Model\")\n",
    "plt.ylabel(\"Final accuracy\")\n",
    "plt.ylim([0,1])\n",
    "plt.yticks(np.arange(0, 1, .1))\n",
    "plt.title(\"Gaussian Naive Bayes performance on Long Beach Heart Disease data\")\n",
    "plt.savefig(\"gaussian-nb-longbeach.png\", bbox_inches='tight')\n",
    "plt.show()"
   ]
  },
  {
   "cell_type": "code",
   "execution_count": 7,
   "id": "a9fb77ab",
   "metadata": {},
   "outputs": [],
   "source": [
    "plt.close()"
   ]
  },
  {
   "cell_type": "code",
   "execution_count": 8,
   "id": "b671ee6b",
   "metadata": {},
   "outputs": [
    {
     "ename": "SyntaxError",
     "evalue": "invalid syntax (<ipython-input-8-f0a65c9348c8>, line 7)",
     "output_type": "error",
     "traceback": [
      "\u001b[1;36m  File \u001b[1;32m\"<ipython-input-8-f0a65c9348c8>\"\u001b[1;36m, line \u001b[1;32m7\u001b[0m\n\u001b[1;33m    print(\"Median: \"np.median(data1))\u001b[0m\n\u001b[1;37m                    ^\u001b[0m\n\u001b[1;31mSyntaxError\u001b[0m\u001b[1;31m:\u001b[0m invalid syntax\n"
     ]
    }
   ],
   "source": [
    "max_accuracy = np.max(data1)\n",
    "min_accuracy = np.min(data1)\n",
    "print (\"Max: \", max_accuracy)\n",
    "print (\"Min: \", min_accuracy)\n",
    "print(\"Range:\", max_accuracy - min_accuracy)\n",
    "print(\"Mean: \", np.mean(data1))\n",
    "print(\"Median: \", np.median(data1))\n",
    "print(\"Std: \", np.std(data1))"
   ]
  },
  {
   "cell_type": "markdown",
   "id": "9cc6a635",
   "metadata": {},
   "source": [
    "# Bernoulli NB on VA Heart Disease"
   ]
  },
  {
   "cell_type": "code",
   "execution_count": null,
   "id": "7f9e0586",
   "metadata": {},
   "outputs": [],
   "source": [
    "data2 = np.loadtxt(\"results/bernoulli-nb-va-heart.txt\", dtype=float)\n",
    "data2_size = np.size(data2)\n",
    "\n",
    "# Plot model performance\n",
    "x_axis = [i for i in range(data2_size)]  # set x-axis to array indices\n",
    "plt.figure(figsize=(8, 6), dpi=80)\n",
    "plt.scatter(x_axis, data2, s=5)\n",
    "plt.xlabel(\"Model\")\n",
    "plt.ylabel(\"Final accuracy\")\n",
    "plt.ylim([0,1])\n",
    "plt.yticks(np.arange(0, 1, .1))\n",
    "plt.title(\"Bernoulli Naive Bayes performance on Long Beach Heart Disease data\")\n",
    "plt.savefig(\"bernoulli-nb-longbeach.png\", bbox_inches='tight')\n",
    "plt.show()"
   ]
  },
  {
   "cell_type": "code",
   "execution_count": null,
   "id": "c92c4948",
   "metadata": {},
   "outputs": [],
   "source": [
    "max_accuracy = np.max(data2)\n",
    "min_accuracy = np.min(data2)\n",
    "print (\"Max: \", max_accuracy)\n",
    "print (\"Min: \", min_accuracy)\n",
    "print(\"Range:\", max_accuracy - min_accuracy)\n",
    "print(\"Mean: \", np.mean(data2))\n",
    "print(\"Median: \", np.median(data2))\n",
    "print(\"Std: \", np.std(data2))"
   ]
  },
  {
   "cell_type": "markdown",
   "id": "665d685e",
   "metadata": {},
   "source": [
    "# Random Forest on VA Heart Disease"
   ]
  },
  {
   "cell_type": "code",
   "execution_count": null,
   "id": "21f891c1",
   "metadata": {},
   "outputs": [],
   "source": [
    "data3 = np.loadtxt(\"results/rf-va-heart.txt\", dtype=float)\n",
    "data3_size = np.size(data3)\n",
    "\n",
    "# Plot model performance\n",
    "x_axis = [i for i in range(data3_size)]  # set x-axis to array indices\n",
    "plt.figure(figsize=(8, 6), dpi=80)\n",
    "plt.scatter(x_axis, data3, s=5)\n",
    "plt.xlabel(\"Model\")\n",
    "plt.ylabel(\"Final accuracy\")\n",
    "plt.ylim([0,1])\n",
    "plt.yticks(np.arange(0, 1, .1))\n",
    "plt.title(\"Random Forest Classifier performance on Long Beach Heart Disease data\")\n",
    "plt.savefig(\"random-forest-longbeach.png\", bbox_inches='tight')\n",
    "plt.show()"
   ]
  },
  {
   "cell_type": "code",
   "execution_count": null,
   "id": "bc7cd5fb",
   "metadata": {},
   "outputs": [],
   "source": [
    "max_accuracy = np.max(data3)\n",
    "min_accuracy = np.min(data3)\n",
    "print (\"Max: \", max_accuracy)\n",
    "print (\"Min: \", min_accuracy)\n",
    "print(\"Range:\", max_accuracy - min_accuracy)\n",
    "print(\"Mean: \", np.mean(data3))\n",
    "print(\"Median: \", np.median(data3))\n",
    "print(\"Std: \", np.std(data3))"
   ]
  },
  {
   "cell_type": "code",
   "execution_count": null,
   "id": "33ca2626",
   "metadata": {},
   "outputs": [],
   "source": []
  }
 ],
 "metadata": {
  "kernelspec": {
   "display_name": "Python 3",
   "language": "python",
   "name": "python3"
  },
  "language_info": {
   "codemirror_mode": {
    "name": "ipython",
    "version": 3
   },
   "file_extension": ".py",
   "mimetype": "text/x-python",
   "name": "python",
   "nbconvert_exporter": "python",
   "pygments_lexer": "ipython3",
   "version": "3.8.8"
  }
 },
 "nbformat": 4,
 "nbformat_minor": 5
}
