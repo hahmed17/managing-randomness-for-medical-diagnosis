{
 "cells": [
  {
   "cell_type": "code",
   "execution_count": 1,
   "id": "d16c61d5",
   "metadata": {},
   "outputs": [],
   "source": [
    "import numpy as np\n",
    "import pandas as pd"
   ]
  },
  {
   "cell_type": "code",
   "execution_count": 2,
   "id": "22520735",
   "metadata": {},
   "outputs": [],
   "source": [
    "cleveland_heart_disease = pd.read_csv('datasets/processed.cleveland.csv', header=None, na_values = {'?'})\n",
    "switzerland_heart_disease = pd.read_csv('datasets/processed.switzerland.csv', header=None, na_values = {'?'})\n",
    "hungary_heart_disease = pd.read_csv('datasets/reprocessed.hungarian.csv', header=None, na_values = {'?'})\n",
    "longbeach_heart_disease = pd.read_csv('datasets/processed.va.csv', header=None, na_values = {'?'})\n",
    "\n",
    "compiled_heart_disease = pd.read_csv('datasets/compiled_heart_disease.csv', header=None, na_values = {'?'})"
   ]
  },
  {
   "cell_type": "code",
   "execution_count": 3,
   "id": "bea74cf8",
   "metadata": {},
   "outputs": [
    {
     "name": "stdout",
     "output_type": "stream",
     "text": [
      "size of Cleveland data: 303\n",
      "size of Switzerland data: 123\n",
      "size of Hungarian data: 294\n",
      "size of Long Beach data: 200\n",
      "size of all Heart Disease data: 920\n"
     ]
    }
   ],
   "source": [
    "# Count number of instances (rows) in each data set\n",
    "print(\"size of Cleveland data:\", len(cleveland_heart_disease))\n",
    "print(\"size of Switzerland data:\", len(switzerland_heart_disease))\n",
    "print(\"size of Hungarian data:\", len(hungary_heart_disease))\n",
    "print(\"size of Long Beach data:\", len(longbeach_heart_disease))\n",
    "print(\"size of all Heart Disease data:\", len(compiled_heart_disease))"
   ]
  },
  {
   "cell_type": "code",
   "execution_count": 4,
   "id": "ffa19781",
   "metadata": {},
   "outputs": [
    {
     "name": "stdout",
     "output_type": "stream",
     "text": [
      "size of Cleveland data: 4242\n",
      "size of Switzerland data: 1722\n",
      "size of Hungarian data: 4116\n",
      "size of Long Beach data: 2800\n",
      "size of compiled data: 12880\n"
     ]
    }
   ],
   "source": [
    "# Count size of each data set\n",
    "\n",
    "print(\"size of Cleveland data:\", cleveland_heart_disease.size)\n",
    "print(\"size of Switzerland data:\", switzerland_heart_disease.size)\n",
    "print(\"size of Hungarian data:\", hungary_heart_disease.size)\n",
    "print(\"size of Long Beach data:\", longbeach_heart_disease.size)\n",
    "print(\"size of compiled data:\", compiled_heart_disease.size)"
   ]
  },
  {
   "cell_type": "code",
   "execution_count": 7,
   "id": "42cf688a",
   "metadata": {},
   "outputs": [
    {
     "name": "stdout",
     "output_type": "stream",
     "text": [
      "# of missing values in Cleveland data: 6\n",
      "# of missing values in Switzerland data: 273\n",
      "# of missing values in Hungarian data: 0\n",
      "# of missing values in Long Beach data: 698\n",
      "# of missing values in compiled data: 977\n"
     ]
    }
   ],
   "source": [
    "# Count missing values in each data set\n",
    "\n",
    "cleveland_missing_values = np.array(cleveland_heart_disease.isnull().sum())\n",
    "print(\"# of missing values in Cleveland data:\", np.sum(cleveland_missing_values))\n",
    "\n",
    "switzerland_missing_values = np.array(switzerland_heart_disease.isnull().sum())\n",
    "print(\"# of missing values in Switzerland data:\", np.sum(switzerland_missing_values))\n",
    "\n",
    "hungary_missing_values = np.array(hungary_heart_disease.isnull().sum())\n",
    "print(\"# of missing values in Hungarian data:\", np.sum(hungary_missing_values))\n",
    "\n",
    "longbeach_missing_values = np.array(longbeach_heart_disease.isnull().sum())\n",
    "print(\"# of missing values in Long Beach data:\", np.sum(longbeach_missing_values))\n",
    "\n",
    "compiled_missing_values = np.array(compiled_heart_disease.isnull().sum())\n",
    "print(\"# of missing values in compiled data:\", np.sum(compiled_missing_values))"
   ]
  },
  {
   "cell_type": "code",
   "execution_count": null,
   "id": "a6beacf9",
   "metadata": {},
   "outputs": [],
   "source": []
  }
 ],
 "metadata": {
  "kernelspec": {
   "display_name": "Python 3",
   "language": "python",
   "name": "python3"
  },
  "language_info": {
   "codemirror_mode": {
    "name": "ipython",
    "version": 3
   },
   "file_extension": ".py",
   "mimetype": "text/x-python",
   "name": "python",
   "nbconvert_exporter": "python",
   "pygments_lexer": "ipython3",
   "version": "3.8.8"
  }
 },
 "nbformat": 4,
 "nbformat_minor": 5
}
